{
 "cells": [
  {
   "cell_type": "code",
   "execution_count": 1,
   "id": "8e6e605f",
   "metadata": {},
   "outputs": [],
   "source": [
    "import yfinance as yf\n",
    "import math\n",
    "import statistics as stats"
   ]
  },
  {
   "cell_type": "code",
   "execution_count": 3,
   "id": "0baa43e6",
   "metadata": {},
   "outputs": [
    {
     "name": "stdout",
     "output_type": "stream",
     "text": [
      "[*********************100%***********************]  1 of 1 completed\n",
      "HSI [' 1926098.36 % ', ' 0.024 % ', ' $ 7499.44 ', ' 1.85 % ', ' 29.42 % ', ' 99.32 % ', ' -31.91 % ', ' -100.00 % ', ' 0.03 ', ' 0.43 ', ' 1.46 ', ' 0.01 ', ' 0.21 ', ' 0.70 ']\n",
      "[*********************100%***********************]  1 of 1 completed\n",
      "DJT [' 269.39 % ', ' 0.014 % ', ' $ 1400.84 ', ' 0.72 % ', ' 11.40 % ', ' 29.06 % ', ' -5.00 % ', ' -77.14 % ', ' 0.01 ', ' 0.22 ', ' 0.55 ', ' 0.01 ', ' 0.21 ', ' 0.53 ']\n",
      "[*********************100%***********************]  1 of 1 completed\n",
      "DAX [' 20.73 % ', ' -0.043 % ', ' $ -28.10 ', ' 0.86 % ', ' 13.66 % ', ' 39.85 % ', ' -10.63 % ', ' -51.98 % ', ' -0.06 ', ' -0.91 ', ' -2.66 ', ' -0.07 ', ' -1.19 ', ' -3.46 ']\n",
      "[*********************100%***********************]  1 of 1 completed\n",
      "SPX [' -3.08 % ', ' -0.019 % ', ' $ -0.13 ', ' 5.88 % ', ' 93.41 % ', ' 264.22 % ', ' -60.00 % ', ' -99.34 % ', ' -0.01 ', ' -0.18 ', ' -0.50 ', ' -0.01 ', ' -0.15 ', ' -0.43 ']\n",
      "[*********************100%***********************]  1 of 1 completed\n",
      "DJI [' 220.21 % ', ' -0.000 % ', ' $ -561.00 ', ' 0.22 % ', ' 3.54 % ', ' 11.99 % ', ' -5.09 % ', ' -73.68 % ', ' -0.00 ', ' -0.06 ', ' -0.19 ', ' -0.00 ', ' -0.02 ', ' -0.05 ']\n",
      "[*********************100%***********************]  1 of 1 completed\n",
      "GOOGL [' 584.15 % ', ' 0.007 % ', ' $ 32.65 ', ' 1.29 % ', ' 20.51 % ', ' 74.80 % ', ' -11.11 % ', ' -92.84 % ', ' 0.01 ', ' 0.17 ', ' 0.62 ', ' 0.01 ', ' 0.20 ', ' 0.74 ']\n",
      "[*********************100%***********************]  1 of 1 completed\n",
      "META [' 471.51 % ', ' 0.025 % ', ' $ 147.91 ', ' 1.83 % ', ' 29.07 % ', ' 96.10 % ', ' -15.56 % ', ' -95.43 % ', ' 0.02 ', ' 0.29 ', ' 0.98 ', ' 0.02 ', ' 0.38 ', ' 1.26 ']\n",
      "[*********************100%***********************]  1 of 1 completed\n",
      "TSLA [' 12871.84 % ', ' 0.022 % ', ' $ -111.83 ', ' 2.98 % ', ' 47.34 % ', ' 169.52 % ', ' -29.84 % ', ' -99.76 % ', ' -0.01 ', ' -0.14 ', ' -0.51 ', ' -0.01 ', ' -0.15 ', ' -0.52 ']\n",
      "[*********************100%***********************]  1 of 1 completed\n",
      "NVDA [' 5896.54 % ', ' 0.055 % ', ' $ 105.65 ', ' 2.31 % ', ' 36.59 % ', ' 133.49 % ', ' -15.28 % ', ' -99.38 % ', ' 0.01 ', ' 0.19 ', ' 0.70 ', ' 0.01 ', ' 0.21 ', ' 0.76 ']\n",
      "[*********************100%***********************]  1 of 1 completed\n",
      "AAPL [' 2126.04 % ', ' 0.037 % ', ' $ 127.14 ', ' 1.40 % ', ' 22.24 % ', ' 81.14 % ', ' -22.85 % ', ' -96.29 % ', ' 0.03 ', ' 0.52 ', ' 1.89 ', ' 0.04 ', ' 0.61 ', ' 2.21 ']\n"
     ]
    }
   ],
   "source": [
    "start_date = '2010-01-01'\n",
    "end_date = '2023-05-1'\n",
    "tickerIN = {'DJI', 'HSI', 'DJT', 'SPX','DAX'} \n",
    "tickerEQ = {'TSLA', 'META', 'GOOGL', 'AAPL','NVDA'}\n",
    "\n",
    "\n",
    "\n",
    "def getData(name, ticker, start_date, end_date):\n",
    "    (name, [\"Net CR\", \"Avg CR\", \"Net Return\",\n",
    "                         \"Daily Vol\", \"Annual Vol\" , \"Overall Vol\",\n",
    "                         \"Max DD\", \"Max DD2\",\n",
    "                         \"Sharpe Ratio\", \"An. Sh.R.\", \"OverAll Sh.R.\",\n",
    "                         \"Sortino Ratio\", \"An. Sort.R.\", \"OverAll Sort.R.\"])\n",
    "    for t in ticker :\n",
    "        data = yf.download(t, start_date, end_date)\n",
    "    \n",
    "        close_Data = data[\"Close\"]\n",
    "        open_Data = data[\"Open\"]\n",
    "        high = data[\"High\"]\n",
    "        low = data[\"Low\"]\n",
    "        maxPrice = max(high)\n",
    "        minPrice = min(low)\n",
    "        maxDDDaily = min((low-high)/high)\n",
    "        dailtPL = data[\"Close\"]-data[\"Open\"]\n",
    "\n",
    "        dailyCumRet = dailtPL/open_Data\n",
    "\n",
    "        netPandL = 0\n",
    "        size = 0\n",
    "        for x in dailtPL :\n",
    "            netPandL = netPandL + x\n",
    "            size = size+1\n",
    "\n",
    "        dailyVol = stats.stdev(dailyCumRet)\n",
    "        dailyRetMean = stats.mean(dailtPL)\n",
    "        dailyRetSd = stats.stdev(dailtPL)\n",
    "        sharpeRatio = dailyRetMean/dailyRetSd\n",
    "        \n",
    "        onlyLoss = []\n",
    "        for x in dailtPL :\n",
    "            if x < 0 :\n",
    "                onlyLoss.append(x)\n",
    "\n",
    "        sortinoR = dailyRetMean/stats.stdev(onlyLoss)\n",
    "\n",
    "        print(\n",
    "        t, [\n",
    "        \" {:.2f} % \".format(((close_Data[size-1]-open_Data[0])/open_Data[0])*100), \n",
    "        \" {:.3f} % \".format(stats.mean(dailyCumRet)*100), \n",
    "        \" $ {:.2f} \".format(netPandL), \n",
    "        \" {:.2f} % \".format(dailyVol*100),\n",
    "        \" {:.2f} % \".format(dailyVol*100*math.sqrt(252)),\n",
    "        \" {:.2f} % \".format(dailyVol*100*math.sqrt(size)),\n",
    "        \" {:.2f} % \".format((maxDDDaily)*100),\n",
    "        \" {:.2f} % \".format(((minPrice-maxPrice)/maxPrice)*100),\n",
    "        \" {:.2f} \".format((sharpeRatio)),\n",
    "        \" {:.2f} \".format((sharpeRatio)*math.sqrt(252)),\n",
    "        \" {:.2f} \".format((sharpeRatio)*math.sqrt(size)),\n",
    "        \" {:.2f} \".format((sortinoR)),\n",
    "        \" {:.2f} \".format((sortinoR)*math.sqrt(252)),\n",
    "        \" {:.2f} \".format((sortinoR)*math.sqrt(size))])\n",
    "    \n",
    "   \n",
    "\n",
    "\n",
    "getData(\"Indices-->\", tickerIN, start_date, end_date)\n",
    "getData(\"Equities-->\", tickerEQ, start_date, end_date)\n"
   ]
  },
  {
   "cell_type": "code",
   "execution_count": null,
   "id": "330d5b92",
   "metadata": {},
   "outputs": [],
   "source": []
  }
 ],
 "metadata": {
  "kernelspec": {
   "display_name": "Python 3 (ipykernel)",
   "language": "python",
   "name": "python3"
  },
  "language_info": {
   "codemirror_mode": {
    "name": "ipython",
    "version": 3
   },
   "file_extension": ".py",
   "mimetype": "text/x-python",
   "name": "python",
   "nbconvert_exporter": "python",
   "pygments_lexer": "ipython3",
   "version": "3.11.2"
  }
 },
 "nbformat": 4,
 "nbformat_minor": 5
}
